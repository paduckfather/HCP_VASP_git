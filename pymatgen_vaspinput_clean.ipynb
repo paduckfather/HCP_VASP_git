{
  "cells": [
    {
      "cell_type": "markdown",
      "metadata": {},
      "source": [
        "# ε(E) Tunability 계산을 위한 VASP 입력 파일 생성\n",
        "\n",
        "이 노트북은 Materials Project에서 물질 구조를 가져와서 ε(E) tunability 계산을 위한 VASP 입력 파일들을 자동으로 생성합니다.\n",
        "\n",
        "## 🎯 목표\n",
        "- CSV 파일에서 MP ID들을 읽어오기\n",
        "- 각 물질에 대해 전기장 스윕용 VASP 입력 파일 생성\n",
        "- PEAD + LCALCEPS 설정으로 유전상수 계산\n"
      ]
    },
    {
      "cell_type": "markdown",
      "metadata": {},
      "source": [
        "## 1단계: 필요한 라이브러리 설치 및 임포트\n"
      ]
    },
    {
      "cell_type": "code",
      "execution_count": 84,
      "metadata": {},
      "outputs": [
        {
          "name": "stdout",
          "output_type": "stream",
          "text": [
            "Requirement already satisfied: pymatgen in /opt/homebrew/anaconda3/envs/dataanalysis/lib/python3.13/site-packages (2025.6.14)\n",
            "Requirement already satisfied: mp-api in /opt/homebrew/anaconda3/envs/dataanalysis/lib/python3.13/site-packages (0.45.9)\n",
            "Requirement already satisfied: bibtexparser>=1.4.0 in /opt/homebrew/anaconda3/envs/dataanalysis/lib/python3.13/site-packages (from pymatgen) (1.4.3)\n",
            "Requirement already satisfied: joblib>=1 in /opt/homebrew/anaconda3/envs/dataanalysis/lib/python3.13/site-packages (from pymatgen) (1.5.1)\n",
            "Requirement already satisfied: matplotlib>=3.8 in /opt/homebrew/anaconda3/envs/dataanalysis/lib/python3.13/site-packages (from pymatgen) (3.10.3)\n",
            "Requirement already satisfied: monty>=2025.1.9 in /opt/homebrew/anaconda3/envs/dataanalysis/lib/python3.13/site-packages (from pymatgen) (2025.3.3)\n",
            "Requirement already satisfied: networkx>=2.7 in /opt/homebrew/anaconda3/envs/dataanalysis/lib/python3.13/site-packages (from pymatgen) (3.5)\n",
            "Requirement already satisfied: numpy<3,>=1.25.0 in /opt/homebrew/anaconda3/envs/dataanalysis/lib/python3.13/site-packages (from pymatgen) (2.3.1)\n",
            "Requirement already satisfied: orjson<4,>=3.10 in /opt/homebrew/anaconda3/envs/dataanalysis/lib/python3.13/site-packages (from pymatgen) (3.11.3)\n",
            "Requirement already satisfied: palettable>=3.3.3 in /opt/homebrew/anaconda3/envs/dataanalysis/lib/python3.13/site-packages (from pymatgen) (3.3.3)\n",
            "Requirement already satisfied: pandas>=2 in /opt/homebrew/anaconda3/envs/dataanalysis/lib/python3.13/site-packages (from pymatgen) (2.3.1)\n",
            "Requirement already satisfied: plotly>=5.0.0 in /opt/homebrew/anaconda3/envs/dataanalysis/lib/python3.13/site-packages (from pymatgen) (6.3.0)\n",
            "Requirement already satisfied: requests>=2.32 in /opt/homebrew/anaconda3/envs/dataanalysis/lib/python3.13/site-packages (from pymatgen) (2.32.5)\n",
            "Requirement already satisfied: ruamel.yaml>=0.17.0 in /opt/homebrew/anaconda3/envs/dataanalysis/lib/python3.13/site-packages (from pymatgen) (0.18.15)\n",
            "Requirement already satisfied: scipy>=1.13.0 in /opt/homebrew/anaconda3/envs/dataanalysis/lib/python3.13/site-packages (from pymatgen) (1.16.0)\n",
            "Requirement already satisfied: spglib>=2.5 in /opt/homebrew/anaconda3/envs/dataanalysis/lib/python3.13/site-packages (from pymatgen) (2.6.0)\n",
            "Requirement already satisfied: sympy>=1.3 in /opt/homebrew/anaconda3/envs/dataanalysis/lib/python3.13/site-packages (from pymatgen) (1.14.0)\n",
            "Requirement already satisfied: tabulate>=0.9 in /opt/homebrew/anaconda3/envs/dataanalysis/lib/python3.13/site-packages (from pymatgen) (0.9.0)\n",
            "Requirement already satisfied: tqdm>=4.60 in /opt/homebrew/anaconda3/envs/dataanalysis/lib/python3.13/site-packages (from pymatgen) (4.67.1)\n",
            "Requirement already satisfied: uncertainties>=3.1.4 in /opt/homebrew/anaconda3/envs/dataanalysis/lib/python3.13/site-packages (from pymatgen) (3.2.3)\n",
            "Requirement already satisfied: setuptools in /opt/homebrew/anaconda3/envs/dataanalysis/lib/python3.13/site-packages (from mp-api) (80.9.0)\n",
            "Requirement already satisfied: msgpack in /opt/homebrew/anaconda3/envs/dataanalysis/lib/python3.13/site-packages (from mp-api) (1.1.1)\n",
            "Requirement already satisfied: maggma>=0.57.1 in /opt/homebrew/anaconda3/envs/dataanalysis/lib/python3.13/site-packages (from mp-api) (0.72.0)\n",
            "Requirement already satisfied: typing-extensions>=3.7.4.1 in /opt/homebrew/anaconda3/envs/dataanalysis/lib/python3.13/site-packages (from mp-api) (4.14.1)\n",
            "Requirement already satisfied: emmet-core>=0.84.3rc6 in /opt/homebrew/anaconda3/envs/dataanalysis/lib/python3.13/site-packages (from mp-api) (0.85.0rc0)\n",
            "Requirement already satisfied: smart_open in /opt/homebrew/anaconda3/envs/dataanalysis/lib/python3.13/site-packages (from mp-api) (7.3.1)\n",
            "Requirement already satisfied: pyparsing>=2.0.3 in /opt/homebrew/anaconda3/envs/dataanalysis/lib/python3.13/site-packages (from bibtexparser>=1.4.0->pymatgen) (3.2.3)\n",
            "Requirement already satisfied: pydantic>=2.0 in /opt/homebrew/anaconda3/envs/dataanalysis/lib/python3.13/site-packages (from emmet-core>=0.84.3rc6->mp-api) (2.11.9)\n",
            "Requirement already satisfied: pydantic-settings>=2.0 in /opt/homebrew/anaconda3/envs/dataanalysis/lib/python3.13/site-packages (from emmet-core>=0.84.3rc6->mp-api) (2.10.1)\n",
            "Requirement already satisfied: pymatgen-io-validation>=0.1.1 in /opt/homebrew/anaconda3/envs/dataanalysis/lib/python3.13/site-packages (from emmet-core>=0.84.3rc6->mp-api) (0.1.2)\n",
            "Requirement already satisfied: pybtex~=0.24 in /opt/homebrew/anaconda3/envs/dataanalysis/lib/python3.13/site-packages (from emmet-core>=0.84.3rc6->mp-api) (0.25.1)\n",
            "Requirement already satisfied: blake3 in /opt/homebrew/anaconda3/envs/dataanalysis/lib/python3.13/site-packages (from emmet-core>=0.84.3rc6->mp-api) (1.0.6)\n",
            "Requirement already satisfied: PyYAML>=3.01 in /opt/homebrew/anaconda3/envs/dataanalysis/lib/python3.13/site-packages (from pybtex~=0.24->emmet-core>=0.84.3rc6->mp-api) (6.0.2)\n",
            "Requirement already satisfied: latexcodec>=1.0.4 in /opt/homebrew/anaconda3/envs/dataanalysis/lib/python3.13/site-packages (from pybtex~=0.24->emmet-core>=0.84.3rc6->mp-api) (3.0.1)\n",
            "Requirement already satisfied: pymongo<4.11,>=4.2.0 in /opt/homebrew/anaconda3/envs/dataanalysis/lib/python3.13/site-packages (from maggma>=0.57.1->mp-api) (4.10.1)\n",
            "Requirement already satisfied: mongomock>=3.10.0 in /opt/homebrew/anaconda3/envs/dataanalysis/lib/python3.13/site-packages (from maggma>=0.57.1->mp-api) (4.3.0)\n",
            "Requirement already satisfied: pydash>=4.1.0 in /opt/homebrew/anaconda3/envs/dataanalysis/lib/python3.13/site-packages (from maggma>=0.57.1->mp-api) (8.0.5)\n",
            "Requirement already satisfied: jsonschema>=3.1.1 in /opt/homebrew/anaconda3/envs/dataanalysis/lib/python3.13/site-packages (from maggma>=0.57.1->mp-api) (4.25.1)\n",
            "Requirement already satisfied: jsonlines>=4.0.0 in /opt/homebrew/anaconda3/envs/dataanalysis/lib/python3.13/site-packages (from maggma>=0.57.1->mp-api) (4.0.0)\n",
            "Requirement already satisfied: aioitertools>=0.5.1 in /opt/homebrew/anaconda3/envs/dataanalysis/lib/python3.13/site-packages (from maggma>=0.57.1->mp-api) (0.12.0)\n",
            "Requirement already satisfied: pyzmq>=25.1.1 in /opt/homebrew/anaconda3/envs/dataanalysis/lib/python3.13/site-packages (from maggma>=0.57.1->mp-api) (27.0.0)\n",
            "Requirement already satisfied: dnspython>=1.16.0 in /opt/homebrew/anaconda3/envs/dataanalysis/lib/python3.13/site-packages (from maggma>=0.57.1->mp-api) (2.8.0)\n",
            "Requirement already satisfied: sshtunnel>=0.1.5 in /opt/homebrew/anaconda3/envs/dataanalysis/lib/python3.13/site-packages (from maggma>=0.57.1->mp-api) (0.4.0)\n",
            "Requirement already satisfied: boto3>=1.20.41 in /opt/homebrew/anaconda3/envs/dataanalysis/lib/python3.13/site-packages (from maggma>=0.57.1->mp-api) (1.40.35)\n",
            "Requirement already satisfied: python-dateutil>=2.8.2 in /opt/homebrew/anaconda3/envs/dataanalysis/lib/python3.13/site-packages (from maggma>=0.57.1->mp-api) (2.9.0.post0)\n",
            "Requirement already satisfied: botocore<1.41.0,>=1.40.35 in /opt/homebrew/anaconda3/envs/dataanalysis/lib/python3.13/site-packages (from boto3>=1.20.41->maggma>=0.57.1->mp-api) (1.40.35)\n",
            "Requirement already satisfied: jmespath<2.0.0,>=0.7.1 in /opt/homebrew/anaconda3/envs/dataanalysis/lib/python3.13/site-packages (from boto3>=1.20.41->maggma>=0.57.1->mp-api) (1.0.1)\n",
            "Requirement already satisfied: s3transfer<0.15.0,>=0.14.0 in /opt/homebrew/anaconda3/envs/dataanalysis/lib/python3.13/site-packages (from boto3>=1.20.41->maggma>=0.57.1->mp-api) (0.14.0)\n",
            "Requirement already satisfied: urllib3!=2.2.0,<3,>=1.25.4 in /opt/homebrew/anaconda3/envs/dataanalysis/lib/python3.13/site-packages (from botocore<1.41.0,>=1.40.35->boto3>=1.20.41->maggma>=0.57.1->mp-api) (2.5.0)\n",
            "Requirement already satisfied: six>=1.5 in /opt/homebrew/anaconda3/envs/dataanalysis/lib/python3.13/site-packages (from python-dateutil>=2.8.2->maggma>=0.57.1->mp-api) (1.17.0)\n",
            "Requirement already satisfied: attrs>=19.2.0 in /opt/homebrew/anaconda3/envs/dataanalysis/lib/python3.13/site-packages (from jsonlines>=4.0.0->maggma>=0.57.1->mp-api) (25.3.0)\n",
            "Requirement already satisfied: jsonschema-specifications>=2023.03.6 in /opt/homebrew/anaconda3/envs/dataanalysis/lib/python3.13/site-packages (from jsonschema>=3.1.1->maggma>=0.57.1->mp-api) (2025.9.1)\n",
            "Requirement already satisfied: referencing>=0.28.4 in /opt/homebrew/anaconda3/envs/dataanalysis/lib/python3.13/site-packages (from jsonschema>=3.1.1->maggma>=0.57.1->mp-api) (0.36.2)\n",
            "Requirement already satisfied: rpds-py>=0.7.1 in /opt/homebrew/anaconda3/envs/dataanalysis/lib/python3.13/site-packages (from jsonschema>=3.1.1->maggma>=0.57.1->mp-api) (0.27.1)\n",
            "Requirement already satisfied: contourpy>=1.0.1 in /opt/homebrew/anaconda3/envs/dataanalysis/lib/python3.13/site-packages (from matplotlib>=3.8->pymatgen) (1.3.2)\n",
            "Requirement already satisfied: cycler>=0.10 in /opt/homebrew/anaconda3/envs/dataanalysis/lib/python3.13/site-packages (from matplotlib>=3.8->pymatgen) (0.12.1)\n",
            "Requirement already satisfied: fonttools>=4.22.0 in /opt/homebrew/anaconda3/envs/dataanalysis/lib/python3.13/site-packages (from matplotlib>=3.8->pymatgen) (4.58.5)\n",
            "Requirement already satisfied: kiwisolver>=1.3.1 in /opt/homebrew/anaconda3/envs/dataanalysis/lib/python3.13/site-packages (from matplotlib>=3.8->pymatgen) (1.4.8)\n",
            "Requirement already satisfied: packaging>=20.0 in /opt/homebrew/anaconda3/envs/dataanalysis/lib/python3.13/site-packages (from matplotlib>=3.8->pymatgen) (25.0)\n",
            "Requirement already satisfied: pillow>=8 in /opt/homebrew/anaconda3/envs/dataanalysis/lib/python3.13/site-packages (from matplotlib>=3.8->pymatgen) (11.3.0)\n",
            "Requirement already satisfied: pytz in /opt/homebrew/anaconda3/envs/dataanalysis/lib/python3.13/site-packages (from mongomock>=3.10.0->maggma>=0.57.1->mp-api) (2025.2)\n",
            "Requirement already satisfied: sentinels in /opt/homebrew/anaconda3/envs/dataanalysis/lib/python3.13/site-packages (from mongomock>=3.10.0->maggma>=0.57.1->mp-api) (1.1.1)\n",
            "Requirement already satisfied: tzdata>=2022.7 in /opt/homebrew/anaconda3/envs/dataanalysis/lib/python3.13/site-packages (from pandas>=2->pymatgen) (2025.2)\n",
            "Requirement already satisfied: narwhals>=1.15.1 in /opt/homebrew/anaconda3/envs/dataanalysis/lib/python3.13/site-packages (from plotly>=5.0.0->pymatgen) (2.5.0)\n",
            "Requirement already satisfied: annotated-types>=0.6.0 in /opt/homebrew/anaconda3/envs/dataanalysis/lib/python3.13/site-packages (from pydantic>=2.0->emmet-core>=0.84.3rc6->mp-api) (0.7.0)\n",
            "Requirement already satisfied: pydantic-core==2.33.2 in /opt/homebrew/anaconda3/envs/dataanalysis/lib/python3.13/site-packages (from pydantic>=2.0->emmet-core>=0.84.3rc6->mp-api) (2.33.2)\n",
            "Requirement already satisfied: typing-inspection>=0.4.0 in /opt/homebrew/anaconda3/envs/dataanalysis/lib/python3.13/site-packages (from pydantic>=2.0->emmet-core>=0.84.3rc6->mp-api) (0.4.1)\n",
            "Requirement already satisfied: python-dotenv>=0.21.0 in /opt/homebrew/anaconda3/envs/dataanalysis/lib/python3.13/site-packages (from pydantic-settings>=2.0->emmet-core>=0.84.3rc6->mp-api) (1.1.1)\n",
            "Requirement already satisfied: charset_normalizer<4,>=2 in /opt/homebrew/anaconda3/envs/dataanalysis/lib/python3.13/site-packages (from requests>=2.32->pymatgen) (3.4.3)\n",
            "Requirement already satisfied: idna<4,>=2.5 in /opt/homebrew/anaconda3/envs/dataanalysis/lib/python3.13/site-packages (from requests>=2.32->pymatgen) (3.10)\n",
            "Requirement already satisfied: certifi>=2017.4.17 in /opt/homebrew/anaconda3/envs/dataanalysis/lib/python3.13/site-packages (from requests>=2.32->pymatgen) (2025.8.3)\n",
            "Requirement already satisfied: ruamel.yaml.clib>=0.2.7 in /opt/homebrew/anaconda3/envs/dataanalysis/lib/python3.13/site-packages (from ruamel.yaml>=0.17.0->pymatgen) (0.2.12)\n",
            "Requirement already satisfied: paramiko>=2.7.2 in /opt/homebrew/anaconda3/envs/dataanalysis/lib/python3.13/site-packages (from sshtunnel>=0.1.5->maggma>=0.57.1->mp-api) (4.0.0)\n",
            "Requirement already satisfied: bcrypt>=3.2 in /opt/homebrew/anaconda3/envs/dataanalysis/lib/python3.13/site-packages (from paramiko>=2.7.2->sshtunnel>=0.1.5->maggma>=0.57.1->mp-api) (4.3.0)\n",
            "Requirement already satisfied: cryptography>=3.3 in /opt/homebrew/anaconda3/envs/dataanalysis/lib/python3.13/site-packages (from paramiko>=2.7.2->sshtunnel>=0.1.5->maggma>=0.57.1->mp-api) (46.0.1)\n",
            "Requirement already satisfied: invoke>=2.0 in /opt/homebrew/anaconda3/envs/dataanalysis/lib/python3.13/site-packages (from paramiko>=2.7.2->sshtunnel>=0.1.5->maggma>=0.57.1->mp-api) (2.2.0)\n",
            "Requirement already satisfied: pynacl>=1.5 in /opt/homebrew/anaconda3/envs/dataanalysis/lib/python3.13/site-packages (from paramiko>=2.7.2->sshtunnel>=0.1.5->maggma>=0.57.1->mp-api) (1.6.0)\n",
            "Requirement already satisfied: cffi>=2.0.0 in /opt/homebrew/anaconda3/envs/dataanalysis/lib/python3.13/site-packages (from cryptography>=3.3->paramiko>=2.7.2->sshtunnel>=0.1.5->maggma>=0.57.1->mp-api) (2.0.0)\n",
            "Requirement already satisfied: pycparser in /opt/homebrew/anaconda3/envs/dataanalysis/lib/python3.13/site-packages (from cffi>=2.0.0->cryptography>=3.3->paramiko>=2.7.2->sshtunnel>=0.1.5->maggma>=0.57.1->mp-api) (2.22)\n",
            "Requirement already satisfied: mpmath<1.4,>=1.1.0 in /opt/homebrew/anaconda3/envs/dataanalysis/lib/python3.13/site-packages (from sympy>=1.3->pymatgen) (1.3.0)\n",
            "Requirement already satisfied: wrapt in /opt/homebrew/anaconda3/envs/dataanalysis/lib/python3.13/site-packages (from smart_open->mp-api) (1.17.3)\n",
            "Note: you may need to restart the kernel to use updated packages.\n",
            "라이브러리 설치가 완료되었습니다!\n"
          ]
        }
      ],
      "source": [
        "# 필요한 라이브러리들을 설치합니다 (처음 한 번만 실행하면 됩니다)\n",
        "%pip install pymatgen mp-api\n",
        "\n",
        "print(\"라이브러리 설치가 완료되었습니다!\")\n"
      ]
    },
    {
      "cell_type": "code",
      "execution_count": 85,
      "metadata": {},
      "outputs": [
        {
          "name": "stdout",
          "output_type": "stream",
          "text": [
            "✅ 최신 mp-api를 사용합니다.\n",
            "✅ 라이브러리 로딩이 완료되었습니다!\n"
          ]
        }
      ],
      "source": [
        "# 라이브러리들을 불러옵니다\n",
        "import os\n",
        "import csv\n",
        "import numpy as np  # 수치 계산을 위한 라이브러리\n",
        "from pathlib import Path  # 파일 경로를 다루기 위한 라이브러리\n",
        "\n",
        "# pymatgen의 핵심 기능들을 불러옵니다\n",
        "from pymatgen.core import Structure  # 결정 구조를 다루는 클래스\n",
        "from pymatgen.io.vasp.sets import MPStaticSet  # VASP 입력 파일 세트 클래스\n",
        "from pymatgen.io.vasp.inputs import Kpoints  # k-points 설정을 위한 클래스\n",
        "\n",
        "# Materials Project API를 사용하기 위한 클래스\n",
        "try:\n",
        "    from mp_api.client import MPRester as MPClient  # 최신 버전의 API 클라이언트\n",
        "    print(\"✅ 최신 mp-api를 사용합니다.\")\n",
        "except ImportError:\n",
        "    from pymatgen.ext.matproj import MPRester as MPClient  # 구버전 API 클라이언트\n",
        "    print(\"✅ 구버전 pymatgen API를 사용합니다.\")\n",
        "\n",
        "print(\"✅ 라이브러리 로딩이 완료되었습니다!\")\n"
      ]
    },
    {
      "cell_type": "markdown",
      "metadata": {},
      "source": [
        "## 2단계: API 키 설정하기\n"
      ]
    },
    {
      "cell_type": "code",
      "execution_count": 86,
      "metadata": {},
      "outputs": [
        {
          "name": "stdout",
          "output_type": "stream",
          "text": [
            "✅ API 키가 성공적으로 설정되었습니다!\n",
            "API 키: 0okpcG0Nl7...SI32\n",
            "이제 Materials Project에서 데이터를 가져올 수 있습니다!\n"
          ]
        }
      ],
      "source": [
        "# 🔑 여기에 당신의 API 키를 직접 입력하세요!\n",
        "api_key = \"0okpcG0Nl7FhbZTDQoxHBFZryxB2SI32\"\n",
        "\n",
        "# API 키가 올바르게 설정되었는지 확인\n",
        "if api_key and api_key != \"your_api_key_here\":\n",
        "    print(\"✅ API 키가 성공적으로 설정되었습니다!\")\n",
        "    print(f\"API 키: {api_key[:10]}...{api_key[-4:]}\")  # 보안을 위해 일부만 표시\n",
        "    print(\"이제 Materials Project에서 데이터를 가져올 수 있습니다!\")\n",
        "else:\n",
        "    print(\"❌ API 키를 올바르게 설정해주세요!\")\n",
        "    print(\"위의 api_key = '...' 부분에 실제 API 키를 입력하세요.\")\n"
      ]
    },
    {
      "cell_type": "markdown",
      "metadata": {},
      "source": [
        "## 3단계: CSV 파일에서 MP ID 읽어오기\n"
      ]
    },
    {
      "cell_type": "code",
      "execution_count": 87,
      "metadata": {},
      "outputs": [
        {
          "name": "stdout",
          "output_type": "stream",
          "text": [
            "✅ CSV 파일에서 265개의 MP ID를 성공적으로 읽어왔습니다!\n",
            "첫 5개 ID: ['mp-1013548', 'mp-1013555', 'mp-1112340', 'mp-1112596', 'mp-1112622']\n"
          ]
        }
      ],
      "source": [
        "# CSV 파일에서 MP ID들을 읽어오는 함수\n",
        "def read_mp_ids_from_csv(csv_path):\n",
        "    \"\"\"\n",
        "    CSV 파일에서 Materials Project ID들을 읽어오는 함수\n",
        "    \n",
        "    Args:\n",
        "        csv_path: CSV 파일 경로\n",
        "        \n",
        "    Returns:\n",
        "        MP ID들의 리스트\n",
        "    \"\"\"\n",
        "    mp_ids = []\n",
        "    \n",
        "    try:\n",
        "        with open(csv_path, 'r', encoding='utf-8') as file:\n",
        "            reader = csv.DictReader(file)  # 첫 번째 줄을 헤더로 사용\n",
        "            \n",
        "            for row in reader:\n",
        "                if 'material_id' in row and row['material_id'].strip():\n",
        "                    mp_ids.append(row['material_id'].strip())\n",
        "                    \n",
        "        print(f\"✅ CSV 파일에서 {len(mp_ids)}개의 MP ID를 성공적으로 읽어왔습니다!\")\n",
        "        print(f\"첫 5개 ID: {mp_ids[:5]}\")\n",
        "        \n",
        "    except FileNotFoundError:\n",
        "        print(f\"❌ 파일을 찾을 수 없습니다: {csv_path}\")\n",
        "    except Exception as e:\n",
        "        print(f\"❌ CSV 파일 읽기 중 오류 발생: {e}\")\n",
        "    \n",
        "    return mp_ids\n",
        "\n",
        "# CSV 파일 경로 설정\n",
        "csv_file_path = \"/Users/jaekwansmac/Desktop/MP_dielectric_constant/perovskite_dielectric_bec_data.csv\"\n",
        "\n",
        "# MP ID들 읽어오기\n",
        "mp_ids = read_mp_ids_from_csv(csv_file_path)"
      ]
    },
    {
      "cell_type": "markdown",
      "metadata": {},
      "source": [
        "## 4단계: ε(E) Tunability 계산을 위한 INCAR 설정\n"
      ]
    },
    {
      "cell_type": "code",
      "execution_count": null,
      "metadata": {},
      "outputs": [
        {
          "name": "stdout",
          "output_type": "stream",
          "text": [
            "✅ INCAR 설정이 완료되었습니다!\n",
            "주요 설정:\n",
            "  - LCALCEPS: False (유전상수 계산)\n",
            "  - ISMEAR: 0 (Gaussian smearing)\n",
            "  - EDIFF: 1e-08 (수렴 기준)\n",
            "  - PREC: Accurate (정확도)\n"
          ]
        }
      ],
      "source": [
        "# ===== 구조 불러오기 함수 =====\n",
        "def get_structure_from_mp(mp_id, api_key):\n",
        "    \"\"\"\n",
        "    Materials Project에서 구조를 가져오는 함수\n",
        "    \n",
        "    Args:\n",
        "        mp_id: Materials Project ID\n",
        "        api_key: API 키\n",
        "        \n",
        "    Returns:\n",
        "        Structure 객체\n",
        "    \"\"\"\n",
        "    with MPClient(api_key) as mpr:\n",
        "        structure = mpr.get_structure_by_material_id(mp_id)\n",
        "    return structure\n",
        "\n",
        "\n",
        "\n",
        "# ===== 공통 INCAR 설정 =====\n",
        "# - MPStaticSet을 기반으로 하되, PEAD finite-field + LCALCEPS + 수렴강화\n",
        "# - Γ-centered 정규 메쉬 필요(PEAD는 Γ 포함 정규 메쉬 요구)\n",
        "#   (MPStaticSet은 기본적으로 MP 규칙을 따르며, KPOINTS는 자동 생성됨)\n",
        "common_incar = {\n",
        "    \"LCALCEPS\": False,      # c축 단일방향 스윕하려고\n",
        "    \"ISMEAR\": 0,           # insulator 가정 (Gaussian smearing)\n",
        "    \"SIGMA\": 0.05,         # smearing 폭 (eV)\n",
        "    \"EDIFF\": 1e-6,         # zero-field에 대한 수렴 기준\n",
        "    # 참고: field-polarized 단계에서는 VASP가 EDIFF/100까지 자동으로 더 조입니다.\n",
        "    # LRPA를 원하면 True (local-field effects 무시, RPA) — 기본은 포함\n",
        "    # \"LRPA\": True,\n",
        "    # 수렴 안정화를 위해 ALGO, PREC, ADDGRID 등을 적절히 조정 가능\n",
        "    \"PREC\": \"Accurate\",    # 정확도 우선\n",
        "    \"ADDGRID\": True,       # 그리드 포인트 추가로 수렴 안정화\n",
        "    \"LREAL\": False,        # 정확도 우선 (실공간 계산 비활성화)\n",
        "    \"LCHARG\": False,       # 디스크 절약 (CHG 파일 저장 안함)\n",
        "    \"LWAVE\": False,        # 디스크 절약 (WAVECAR 파일 저장 안함)\n",
        "    \"ENCUT\": 520,          # 컷오프 에너지 (eV)\n",
        "    \"NSW\": 0,              # 이온 스텝 수 (0 = 이온 이동 안함) \n",
        "    \"LCALCPOL\":True,       # 후처리 (예: P‑E 곡선, 유도량 확인)에 유용      \n",
        "    \"IBRION\": -1,\n",
        "              # 이온 이동 방법 (-1 = 고정)\n",
        "}\n",
        "\n",
        "print(\"✅ INCAR 설정이 완료되었습니다!\")\n",
        "print(\"주요 설정:\")\n",
        "print(f\"  - LCALCEPS: {common_incar['LCALCEPS']} (유전상수 계산)\")\n",
        "print(f\"  - ISMEAR: {common_incar['ISMEAR']} (Gaussian smearing)\")\n",
        "print(f\"  - EDIFF: {common_incar['EDIFF']} (수렴 기준)\")\n",
        "print(f\"  - PREC: {common_incar['PREC']} (정확도)\")\n"
      ]
    },
    {
      "cell_type": "markdown",
      "metadata": {},
      "source": [
        "## 7단계: 모든 CSV 물질에 대해 일괄 처리하기\n"
      ]
    },
    {
      "cell_type": "code",
      "execution_count": 95,
      "metadata": {},
      "outputs": [
        {
          "name": "stdout",
          "output_type": "stream",
          "text": [
            "⚙️  설정:\n",
            "   - 최대 처리 물질 수: 3개\n",
            "   - 전기장 세기: [0.001, 0.003, 0.005] eV/Å\n",
            "   - 전기장 방향: c축 방향 (결정학적 [001] 방향)\n",
            "🔧 3개 물질에 대해 필드 스윕 입력을 생성합니다...\n",
            "\\n============================================================\n",
            "📋 1/3: mp-1013548 처리 중\n",
            "============================================================\n"
          ]
        },
        {
          "name": "stderr",
          "output_type": "stream",
          "text": [
            "Retrieving MaterialsDoc documents: 100%|██████████| 1/1 [00:00<00:00, 7810.62it/s]\n"
          ]
        },
        {
          "name": "stdout",
          "output_type": "stream",
          "text": [
            "✅ 구조 로드 완료: Ca3SbN\n",
            "✅ k-points 설정: Γ-centered 8x8x8 메쉬\n",
            "✅ Zero-field 참고 입력 생성: E0_ref\n",
            "✅ c축 단위벡터: [0.0000, 0.0000, 1.0000]\n",
            "✅ E_0.0010_along_001 생성 완료 (c축 방향)\n",
            "✅ E_0.0030_along_001 생성 완료 (c축 방향)\n",
            "✅ E_0.0050_along_001 생성 완료 (c축 방향)\n",
            "✅ mp-1013548 필드 스윕 입력 생성 완료! (4개 디렉토리)\n",
            "   - Zero-field: 1개\n",
            "   - c축 방향: 3개\n",
            "\\n============================================================\n",
            "📋 2/3: mp-1013555 처리 중\n",
            "============================================================\n"
          ]
        },
        {
          "name": "stderr",
          "output_type": "stream",
          "text": [
            "Retrieving MaterialsDoc documents: 100%|██████████| 1/1 [00:00<00:00, 19599.55it/s]\n"
          ]
        },
        {
          "name": "stdout",
          "output_type": "stream",
          "text": [
            "✅ 구조 로드 완료: Sr3AsN\n",
            "✅ k-points 설정: Γ-centered 8x8x8 메쉬\n",
            "✅ Zero-field 참고 입력 생성: E0_ref\n",
            "✅ c축 단위벡터: [0.0000, -0.0000, 1.0000]\n",
            "✅ E_0.0010_along_001 생성 완료 (c축 방향)\n",
            "✅ E_0.0030_along_001 생성 완료 (c축 방향)\n",
            "✅ E_0.0050_along_001 생성 완료 (c축 방향)\n",
            "✅ mp-1013555 필드 스윕 입력 생성 완료! (4개 디렉토리)\n",
            "   - Zero-field: 1개\n",
            "   - c축 방향: 3개\n",
            "\\n============================================================\n",
            "📋 3/3: mp-1112340 처리 중\n",
            "============================================================\n"
          ]
        },
        {
          "name": "stderr",
          "output_type": "stream",
          "text": [
            "Retrieving MaterialsDoc documents: 100%|██████████| 1/1 [00:00<00:00, 26214.40it/s]"
          ]
        },
        {
          "name": "stdout",
          "output_type": "stream",
          "text": [
            "✅ 구조 로드 완료: Cs2TlRhF6\n",
            "✅ k-points 설정: Γ-centered 8x8x8 메쉬\n",
            "✅ Zero-field 참고 입력 생성: E0_ref\n",
            "✅ c축 단위벡터: [0.7071, 0.7071, 0.0000]\n",
            "✅ E_0.0010_along_001 생성 완료 (c축 방향)\n",
            "✅ E_0.0030_along_001 생성 완료 (c축 방향)\n",
            "✅ E_0.0050_along_001 생성 완료 (c축 방향)\n",
            "✅ mp-1112340 필드 스윕 입력 생성 완료! (4개 디렉토리)\n",
            "   - Zero-field: 1개\n",
            "   - c축 방향: 3개\n",
            "\\n🎉 전체 처리 완료!\n",
            "✅ 성공: 3개\n",
            "❌ 실패: 0개\n",
            "📊 성공률: 100.0%\n"
          ]
        },
        {
          "name": "stderr",
          "output_type": "stream",
          "text": [
            "\n"
          ]
        }
      ],
      "source": [
        "# 모든 CSV 물질에 대해 필드 스윕 입력을 생성하는 함수\n",
        "def create_field_sweep_for_all_materials(mp_ids, max_materials=3, E_mags=[0.001, 0.003, 0.005]):\n",
        "    \"\"\"\n",
        "    CSV에서 읽어온 모든 MP ID에 대해 필드 스윕 입력을 생성하는 함수\n",
        "    \n",
        "    Args:\n",
        "        mp_ids: MP ID들의 리스트\n",
        "        max_materials: 최대 처리할 물질 수\n",
        "        E_mags: 전기장 세기 리스트\n",
        "    \"\"\"\n",
        "    if not mp_ids:\n",
        "        print(\"❌ 처리할 MP ID가 없습니다!\")\n",
        "        return\n",
        "    \n",
        "    # 처리할 물질 수 제한\n",
        "    materials_to_process = mp_ids[:max_materials]\n",
        "    print(f\"🔧 {len(materials_to_process)}개 물질에 대해 필드 스윕 입력을 생성합니다...\")\n",
        "    \n",
        "    success_count = 0\n",
        "    fail_count = 0\n",
        "    \n",
        "    for i, mp_id in enumerate(materials_to_process, 1):\n",
        "        print(f\"\\\\n{'='*60}\")\n",
        "        print(f\"📋 {i}/{len(materials_to_process)}: {mp_id} 처리 중\")\n",
        "        print(f\"{'='*60}\")\n",
        "        \n",
        "        try:\n",
        "            # 구조 가져오기\n",
        "            structure = get_structure_from_mp(mp_id, api_key)\n",
        "            print(f\"✅ 구조 로드 완료: {structure.composition.reduced_formula}\")\n",
        "            \n",
        "            # 루트 디렉토리 생성\n",
        "            root = Path(f\"finite_field_sweep_{mp_id}\")\n",
        "            root.mkdir(exist_ok=True)\n",
        "            \n",
        "            # k-points 설정 (Γ-centered 정규 메쉬)\n",
        "            kpoints = Kpoints.gamma_automatic(kpts=(8,8,8))\n",
        "            print(f\"✅ k-points 설정: Γ-centered 8x8x8 메쉬\")\n",
        "            \n",
        "            # Zero-field 참고용 입력 생성\n",
        "            zf_dir = root / \"E0_ref\"\n",
        "            zf_dir.mkdir(exist_ok=True)\n",
        "            zf_incar = {**common_incar, \"EFIELD_PEAD\": [0.0, 0.0, 0.0]}\n",
        "            vset_zf = MPStaticSet(structure, user_incar_settings=zf_incar, user_kpoints_settings=kpoints)\n",
        "            vset_zf.write_input(str(zf_dir), potcar_spec=True)\n",
        "            print(f\"✅ Zero-field 참고 입력 생성: {zf_dir.name}\")\n",
        "            \n",
        "            # ===== c축 방향 스윕만 생성 =====\n",
        "            # c축 단위벡터 계산 (결정학적 [001] 방향)\n",
        "            c_hat = structure.lattice.matrix[2] / np.linalg.norm(structure.lattice.matrix[2])\n",
        "            print(f\"✅ c축 단위벡터: [{c_hat[0]:.4f}, {c_hat[1]:.4f}, {c_hat[2]:.4f}]\")\n",
        "            \n",
        "            total_dirs = 0\n",
        "            for E in E_mags:\n",
        "                # c축 방향으로 전기장 벡터 계산: E * c_hat\n",
        "                evec = (c_hat * E).tolist()\n",
        "                tag = f\"E_{E:.4f}_along_001\"\n",
        "                wdir = root / tag\n",
        "                wdir.mkdir(parents=True, exist_ok=True)\n",
        "                \n",
        "                field_incar = {**common_incar, \"EFIELD_PEAD\": evec}\n",
        "                vset = MPStaticSet(structure, user_incar_settings=field_incar, user_kpoints_settings=kpoints)\n",
        "                vset.write_input(str(wdir), potcar_spec=True)\n",
        "                \n",
        "                total_dirs += 1\n",
        "                print(f\"✅ {tag} 생성 완료 (c축 방향)\")\n",
        "            \n",
        "            print(f\"✅ {mp_id} 필드 스윕 입력 생성 완료! ({total_dirs + 1}개 디렉토리)\")\n",
        "            print(f\"   - Zero-field: 1개\")\n",
        "            print(f\"   - c축 방향: {len(E_mags)}개\")\n",
        "            success_count += 1\n",
        "                \n",
        "        except Exception as e:\n",
        "            print(f\"❌ {mp_id} 처리 중 오류: {e}\")\n",
        "            fail_count += 1\n",
        "    \n",
        "    print(f\"\\\\n🎉 전체 처리 완료!\")\n",
        "    print(f\"✅ 성공: {success_count}개\")\n",
        "    print(f\"❌ 실패: {fail_count}개\")\n",
        "    print(f\"📊 성공률: {success_count/(success_count+fail_count)*100:.1f}%\")\n",
        "\n",
        "# 사용자 설정\n",
        "MAX_MATERIALS = 3  # 테스트용으로 3개만 처리 (필요시 더 늘릴 수 있음)\n",
        "E_FIELD_MAGNITUDES = [0.001, 0.003, 0.005]  # 전기장 세기 (eV/Å)\n",
        "\n",
        "print(f\"⚙️  설정:\")\n",
        "print(f\"   - 최대 처리 물질 수: {MAX_MATERIALS}개\")\n",
        "print(f\"   - 전기장 세기: {E_FIELD_MAGNITUDES} eV/Å\")\n",
        "print(f\"   - 전기장 방향: c축 방향 (결정학적 [001] 방향)\")\n",
        "\n",
        "# 모든 물질에 대해 필드 스윕 입력 생성\n",
        "if mp_ids:\n",
        "    create_field_sweep_for_all_materials(\n",
        "        mp_ids=mp_ids,\n",
        "        max_materials=MAX_MATERIALS,\n",
        "        E_mags=E_FIELD_MAGNITUDES\n",
        "    )\n",
        "else:\n",
        "    print(\"⚠️  먼저 위의 셀을 실행해서 MP ID들을 읽어와주세요!\")"
      ]
    },
    {
      "cell_type": "markdown",
      "metadata": {},
      "source": [
        "## 🎉 완료! ε(E) Tunability 계산용 필드 스윕 입력 생성\n",
        "\n",
        "축하합니다! 이제 CSV 파일에서 MP ID들을 읽어와서 ε(E) tunability 계산을 위한 필드 스윕용 VASP 입력 파일들을 자동으로 생성할 수 있습니다.\n",
        "\n",
        "### 🔧 생성되는 입력 파일들:\n",
        "\n",
        "1. **Zero-field 참고용**: `E0_ref/` - 전기장이 없는 상태\n",
        "2. **결정학적 c축 방향 스윕**: \n",
        "   - `E_0.0010_along_001/`, `E_0.0030_along_001/`, `E_0.0050_along_001/`\n",
        "   - 구조가 z축과 정렬되어 있지 않아도 항상 결정학적 [001] 방향으로 전기장 적용\n",
        "\n",
        "### 📁 각 디렉토리에는:\n",
        "- **INCAR**: PEAD + LCALCEPS 설정으로 유전상수 계산\n",
        "- **POSCAR**: Materials Project에서 가져온 원자 구조\n",
        "- **KPOINTS**: Γ-centered 정규 메쉬 (PEAD 요구사항)\n",
        "- **POTCAR.spec**: POTCAR 생성에 필요한 정보\n",
        "\n",
        "### ⚙️ 주요 INCAR 설정:\n",
        "- `LCALCEPS = True`: field-polarized 상태에서 ε∞ tensor 계산\n",
        "- `EFIELD_PEAD = [Ex, Ey, Ez]`: 전기장 벡터 (eV/Å)\n",
        "- `ISMEAR = 0`: 절연체 가정\n",
        "- `EDIFF = 1e-8`: 엄격한 수렴 기준\n",
        "\n",
        "### 🚀 다음 단계:\n",
        "1. 생성된 입력 파일들을 VASP가 설치된 HPC로 복사\n",
        "2. VASP 환경에서 POTCAR 파일 생성: `potcar.sh $(cat POTCAR.spec)`\n",
        "3. 각 디렉토리에서 VASP 계산 실행\n",
        "4. 결과에서 유전상수 텐서 추출\n",
        "5. 전기장에 따른 유전상수 변화 분석 (ε(E) tunability)\n"
      ]
    },
    {
      "cell_type": "markdown",
      "metadata": {},
      "source": []
    }
  ],
  "metadata": {
    "kernelspec": {
      "display_name": "dataanalysis",
      "language": "python",
      "name": "dataanalysis"
    },
    "language_info": {
      "codemirror_mode": {
        "name": "ipython",
        "version": 3
      },
      "file_extension": ".py",
      "mimetype": "text/x-python",
      "name": "python",
      "nbconvert_exporter": "python",
      "pygments_lexer": "ipython3",
      "version": "3.13.5"
    }
  },
  "nbformat": 4,
  "nbformat_minor": 2
}
